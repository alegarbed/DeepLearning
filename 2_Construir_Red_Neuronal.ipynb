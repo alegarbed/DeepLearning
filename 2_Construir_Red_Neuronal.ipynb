{
  "nbformat": 4,
  "nbformat_minor": 0,
  "metadata": {
    "colab": {
      "name": "2. Construir Red Neuronal.ipynb",
      "version": "0.3.2",
      "provenance": [],
      "include_colab_link": true
    },
    "kernelspec": {
      "name": "python3",
      "display_name": "Python 3"
    },
    "accelerator": "GPU"
  },
  "cells": [
    {
      "cell_type": "markdown",
      "metadata": {
        "id": "view-in-github",
        "colab_type": "text"
      },
      "source": [
        "<a href=\"https://colab.research.google.com/github/alegarbed/DeepLearning/blob/master/2_Construir_Red_Neuronal.ipynb\" target=\"_parent\"><img src=\"https://colab.research.google.com/assets/colab-badge.svg\" alt=\"Open In Colab\"/></a>"
      ]
    },
    {
      "metadata": {
        "id": "OKPjsZC5Z3CX",
        "colab_type": "text"
      },
      "cell_type": "markdown",
      "source": [
        "# IA Notebook | Building a Neural Network Step by Step"
      ]
    },
    {
      "metadata": {
        "id": "m7AUGtaQaDWM",
        "colab_type": "code",
        "colab": {}
      },
      "cell_type": "code",
      "source": [
        "# Cargamos las librerías\n",
        "\n",
        "import numpy as np\n",
        "import scipy as sc\n",
        "import matplotlib.pyplot as plt\n",
        "\n",
        "from sklearn.datasets import make_circles"
      ],
      "execution_count": 0,
      "outputs": []
    },
    {
      "metadata": {
        "id": "ZwXoZr74aeVp",
        "colab_type": "code",
        "colab": {
          "base_uri": "https://localhost:8080/",
          "height": 34
        },
        "outputId": "8e7b3c30-a2fa-4e86-f926-cbebc2253101"
      },
      "cell_type": "code",
      "source": [
        "# Creamos el dataset\n",
        "\n",
        "n = 500 # número de neuronas\n",
        "p = 2   # número de características\n",
        "\n",
        "X, Y = make_circles(n_samples = n, factor = 0.5, noise = 0.05)\n",
        "\n",
        "Y = Y[:, np.newaxis]\n",
        "print(Y.shape)"
      ],
      "execution_count": 77,
      "outputs": [
        {
          "output_type": "stream",
          "text": [
            "(500, 1)\n"
          ],
          "name": "stdout"
        }
      ]
    },
    {
      "metadata": {
        "id": "22VDw3bmasHE",
        "colab_type": "code",
        "outputId": "4341128e-f979-42e8-97fd-f70647942bc7",
        "colab": {
          "base_uri": "https://localhost:8080/",
          "height": 269
        }
      },
      "cell_type": "code",
      "source": [
        "# Visualización del dataset\n",
        "\n",
        "plt.scatter(X[Y[:, 0] == 0, 0], X[Y[:, 0] == 0, 1], c='skyblue')\n",
        "plt.scatter(X[Y[:, 0] == 1, 0], X[Y[:, 0] == 1, 1], c='salmon')\n",
        "plt.axis('equal')\n",
        "plt.show()"
      ],
      "execution_count": 78,
      "outputs": [
        {
          "output_type": "display_data",
          "data": {
            "image/png": "[encoded data removed]",
            "text/plain": [
              "<Figure size 432x288 with 1 Axes>"
            ]
          },
          "metadata": {
            "tags": []
          }
        }
      ]
    },
    {
      "metadata": {
        "id": "3T9PJvDyb3Ic",
        "colab_type": "code",
        "colab": {}
      },
      "cell_type": "code",
      "source": [
        "# Clase de la capa de la red\n",
        "\n",
        "class neural_layer():\n",
        "  def __init__(self, n_conn, n_neur, act_f):\n",
        "    self.act_f = act_f\n",
        "    \n",
        "    self.b = np.random.rand(1, n_neur)      * 2 - 1\n",
        "    self.W = np.random.rand(n_conn, n_neur) * 2 - 1"
      ],
      "execution_count": 0,
      "outputs": []
    },
    {
      "metadata": {
        "id": "jDQ5OL4OwEk5",
        "colab_type": "code",
        "colab": {
          "base_uri": "https://localhost:8080/",
          "height": 286
        },
        "outputId": "f593947b-b9d7-4328-e3f7-7503d8af0789"
      },
      "cell_type": "code",
      "source": [
        "# Funciones de activación\n",
        "\n",
        "sigm = (lambda x: 1 / (1 + np.e ** (-x)),\n",
        "        lambda x: x * (1-x))\n",
        "\n",
        "relu = lambda x: np.maximum(0, x)\n",
        "\n",
        "\n",
        "_x = np.linspace(-5, 5, 100)\n",
        "plt.plot(_x, relu(_x))"
      ],
      "execution_count": 80,
      "outputs": [
        {
          "output_type": "execute_result",
          "data": {
            "text/plain": [
              "[<matplotlib.lines.Line2D at 0x7f0349be26a0>]"
            ]
          },
          "metadata": {
            "tags": []
          },
          "execution_count": 80
        },
        {
          "output_type": "display_data",
          "data": {
            "image/png": "[encoded data removed]",
            "text/plain": [
              "<Figure size 432x288 with 1 Axes>"
            ]
          },
          "metadata": {
            "tags": []
          }
        }
      ]
    },
    {
      "metadata": {
        "id": "D_8XMVtAw9Rg",
        "colab_type": "code",
        "colab": {}
      },
      "cell_type": "code",
      "source": [
        "# Creamos la red neuronal\n",
        "\n",
        "l0 = neural_layer(p, 4, sigm)\n",
        "l1 = neural_layer(4, 8, sigm)\n",
        "# ...\n",
        "\n",
        "def create_nn(topology, act_f):\n",
        "  \n",
        "  nn = []\n",
        "  \n",
        "  for l, layer in enumerate(topology[:-1]):\n",
        "    \n",
        "    nn.append(neural_layer(topology[l], topology[l+1], act_f))\n",
        "    \n",
        "  return nn"
      ],
      "execution_count": 0,
      "outputs": []
    },
    {
      "metadata": {
        "id": "NKp8t79Fx7Bo",
        "colab_type": "code",
        "colab": {
          "base_uri": "https://localhost:8080/",
          "height": 34
        },
        "outputId": "5af35f03-b02c-4ff9-e991-93e5278201c3"
      },
      "cell_type": "code",
      "source": [
        "# Función de Entrenamiento\n",
        "\n",
        "topology = [p, 4, 8, 1]\n",
        "\n",
        "neural_net = create_nn(topology, sigm)  \n",
        "\n",
        "l2_cost = (lambda Yp, Yr: np.mean((Yp - Yr) ** 2),\n",
        "           lambda Yp, Yr: (Yp - Yr))\n",
        "\n",
        "\n",
        "\n",
        "def train(neural_net, X, Y, l2_cost, lr=0.5, train=True):\n",
        "  \n",
        "  out = [(None, X)]\n",
        "  \n",
        "  # Forward pass\n",
        "  for l, layer in enumerate(neural_net):\n",
        "  \n",
        "    z = out[-1][1] @ neural_net[l].W + neural_net[l].b\n",
        "    a = neural_net[l].act_f[0](z)\n",
        "  \n",
        "    out.append((z, a))\n",
        "    \n",
        "  \n",
        "  if train:\n",
        "    \n",
        "    # Backward pass \n",
        "    deltas = []\n",
        "    \n",
        "    for l in reversed(range(0, len(neural_net))):\n",
        "      \n",
        "      z = out[l+1][0]\n",
        "      a = out[l+1][1]\n",
        "      \n",
        "      if l == len(neural_net) - 1:\n",
        "        deltas.insert(0, l2_cost[1](a, Y) * neural_net[l].act_f[1](a))\n",
        "      else:\n",
        "        deltas.insert(0, deltas[0] @ _W.T * neural_net[l].act_f[1](a))\n",
        "       \n",
        "      _W = neural_net[l].W\n",
        " \n",
        "      # Gradient descent\n",
        "      neural_net[l].b = neural_net[l].b - np.mean(deltas[0], axis=0, keepdims=True) * lr   \n",
        "      neural_net[l].W = neural_net[l].W - out[l][1].T @ deltas[0] * lr\n",
        "      \n",
        "  return out[-1][1]\n",
        "  \n",
        "  \n",
        "train(neural_net, X, Y, l2_cost, 0.5)\n",
        "print(\"\")"
      ],
      "execution_count": 82,
      "outputs": [
        {
          "output_type": "stream",
          "text": [
            "\n"
          ],
          "name": "stdout"
        }
      ]
    },
    {
      "metadata": {
        "id": "e4jUiw0E3wuF",
        "colab_type": "code",
        "colab": {
          "base_uri": "https://localhost:8080/",
          "height": 521
        },
        "outputId": "bcb524af-fb70-4f14-e9ce-d6dbee3f049e"
      },
      "cell_type": "code",
      "source": [
        "# VISUALIZACIÓN Y TEST\n",
        "\n",
        "import time\n",
        "from IPython.display import clear_output\n",
        "\n",
        "neural_n = create_nn(topology, sigm)\n",
        "\n",
        "loss = []\n",
        "\n",
        "for i in range(2000):\n",
        "    \n",
        "  # Entrenemos a la red!\n",
        "  pY = train(neural_n, X, Y, l2_cost, lr=0.05)\n",
        "  \n",
        "  if i % 25 == 0:\n",
        "    \n",
        "    print(pY)\n",
        "  \n",
        "    loss.append(l2_cost[0](pY, Y))\n",
        "  \n",
        "    res = 50\n",
        "\n",
        "    _x0 = np.linspace(-1.5, 1.5, res)\n",
        "    _x1 = np.linspace(-1.5, 1.5, res)\n",
        "\n",
        "    _Y = np.zeros((res, res))\n",
        "\n",
        "    for i0, x0 in enumerate(_x0):\n",
        "      for i1, x1 in enumerate(_x1):\n",
        "        _Y[i0, i1] = train(neural_n, np.array([[x0, x1]]), Y, l2_cost, train=False)[0][0]    \n",
        "\n",
        "    plt.pcolormesh(_x0, _x1, _Y, cmap=\"coolwarm\")\n",
        "    plt.axis(\"equal\")\n",
        "\n",
        "    plt.scatter(X[Y[:,0] == 0, 0], X[Y[:,0] == 0, 1], c=\"skyblue\")\n",
        "    plt.scatter(X[Y[:,0] == 1, 0], X[Y[:,0] == 1, 1], c=\"salmon\")\n",
        "\n",
        "    clear_output(wait=True)\n",
        "    plt.show()\n",
        "    plt.plot(range(len(loss)), loss)\n",
        "    plt.show()\n",
        "    time.sleep(0.5)  "
      ],
      "execution_count": 86,
      "outputs": [
        {
          "output_type": "display_data",
          "data": {
            "image/png": "[encoded data removed]",
            "text/plain": [
              "<Figure size 432x288 with 1 Axes>"
            ]
          },
          "metadata": {
            "tags": []
          }
        },
        {
          "output_type": "display_data",
          "data": {
            "image/png": "[encoded data removed]",
            "text/plain": [
              "<Figure size 432x288 with 1 Axes>"
            ]
          },
          "metadata": {
            "tags": []
          }
        }
      ]
    },
    {
      "metadata": {
        "id": "9ra09yte4LJg",
        "colab_type": "text"
      },
      "cell_type": "markdown",
      "source": [
        ""
      ]
    },
    {
      "metadata": {
        "id": "QwaY7t3r4LRQ",
        "colab_type": "code",
        "colab": {}
      },
      "cell_type": "code",
      "source": [
        ""
      ],
      "execution_count": 0,
      "outputs": []
    },
    {
      "metadata": {
        "id": "cUwiFTQ33y6W",
        "colab_type": "code",
        "colab": {}
      },
      "cell_type": "code",
      "source": [
        ""
      ],
      "execution_count": 0,
      "outputs": []
    },
    {
      "metadata": {
        "id": "OVieZQ1b4cl3",
        "colab_type": "code",
        "colab": {}
      },
      "cell_type": "code",
      "source": [
        ""
      ],
      "execution_count": 0,
      "outputs": []
    }
  ]
}