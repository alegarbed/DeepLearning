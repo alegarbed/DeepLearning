{
  "nbformat": 4,
  "nbformat_minor": 0,
  "metadata": {
    "colab": {
      "name": "2. Construir Red Neuronal.ipynb",
      "version": "0.3.2",
      "provenance": [],
      "include_colab_link": true
    },
    "kernelspec": {
      "name": "python3",
      "display_name": "Python 3"
    },
    "accelerator": "GPU"
  },
  "cells": [
    {
      "cell_type": "markdown",
      "metadata": {
        "id": "view-in-github",
        "colab_type": "text"
      },
      "source": [
        "<a href=\"https://colab.research.google.com/github/alegarbed/DeepLearning/blob/master/2_Construir_Red_Neuronal.ipynb\" target=\"_parent\"><img src=\"https://colab.research.google.com/assets/colab-badge.svg\" alt=\"Open In Colab\"/></a>"
      ]
    },
    {
      "metadata": {
        "id": "OKPjsZC5Z3CX",
        "colab_type": "text"
      },
      "cell_type": "markdown",
      "source": [
        "# IA Notebook | Building a Neural Network Step by Step"
      ]
    },
    {
      "metadata": {
        "id": "m7AUGtaQaDWM",
        "colab_type": "code",
        "colab": {}
      },
      "cell_type": "code",
      "source": [
        "# Cargamos las librerías\n",
        "\n",
        "import numpy as np\n",
        "import scipy as sc\n",
        "import matplotlib.pyplot as plt\n",
        "\n",
        "from sklearn.datasets import make_circles"
      ],
      "execution_count": 0,
      "outputs": []
    },
    {
      "metadata": {
        "id": "ZwXoZr74aeVp",
        "colab_type": "code",
        "colab": {}
      },
      "cell_type": "code",
      "source": [
        "# Creamos el dataset\n",
        "\n",
        "n = 500 # número de neuronas\n",
        "p = 2   # número de características\n",
        "\n",
        "X, Y = make_circles(n_samples = n, factor = 0.5, noise = 0.05)"
      ],
      "execution_count": 0,
      "outputs": []
    },
    {
      "metadata": {
        "id": "22VDw3bmasHE",
        "colab_type": "code",
        "outputId": "75b956f9-153e-4b2a-d9d5-b1eedddc24a3",
        "colab": {
          "base_uri": "https://localhost:8080/",
          "height": 269
        }
      },
      "cell_type": "code",
      "source": [
        "# Visualización del dataset\n",
        "\n",
        "plt.scatter(X[Y == 0, 0], X[Y == 0, 1], c='skyblue')\n",
        "plt.scatter(X[Y == 1, 0], X[Y == 1, 1], c='salmon')\n",
        "plt.axis('equal')\n",
        "plt.show()"
      ],
      "execution_count": 3,
      "outputs": [
        {
          "output_type": "display_data",
          "data": {
            "image/png": "[encoded data removed]",
            "text/plain": [
              "<Figure size 432x288 with 1 Axes>"
            ]
          },
          "metadata": {
            "tags": []
          }
        }
      ]
    },
    {
      "metadata": {
        "id": "3T9PJvDyb3Ic",
        "colab_type": "code",
        "colab": {}
      },
      "cell_type": "code",
      "source": [
        "# Clase de la capa de la red\n",
        "\n",
        "class neural_layer():\n",
        "  def __init__(self, n_conn, n_neur, act_f):\n",
        "    self.act_f = act_f\n",
        "    \n",
        "    self.b = np.random.rand(1, n_neur)      * 2 - 1\n",
        "    self.w = np.random.rand(n_conn, n_neur) * 2 - 1"
      ],
      "execution_count": 0,
      "outputs": []
    },
    {
      "metadata": {
        "id": "jDQ5OL4OwEk5",
        "colab_type": "code",
        "colab": {}
      },
      "cell_type": "code",
      "source": [
        ""
      ],
      "execution_count": 0,
      "outputs": []
    }
  ]
}